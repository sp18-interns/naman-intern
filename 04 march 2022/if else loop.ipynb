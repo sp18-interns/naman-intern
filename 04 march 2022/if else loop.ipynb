{
 "cells": [
  {
   "cell_type": "code",
   "execution_count": 21,
   "id": "68460129",
   "metadata": {},
   "outputs": [
    {
     "name": "stdout",
     "output_type": "stream",
     "text": [
      "feed me!\n"
     ]
    }
   ],
   "source": [
    "hungry = True\n",
    "if hungry :\n",
    "    print('feed me!')\n",
    "else:\n",
    "    print('i am not hungry')"
   ]
  },
  {
   "cell_type": "code",
   "execution_count": 23,
   "id": "6dc7e469",
   "metadata": {},
   "outputs": [
    {
     "name": "stdout",
     "output_type": "stream",
     "text": [
      "44\n",
      "var1 is smaller\n"
     ]
    }
   ],
   "source": [
    "var1= 6\n",
    "var2= 5\n",
    "\n",
    "var3= int(input())\n",
    "if var1>var3:\n",
    "    print('var1 is greater ')\n",
    "else:\n",
    "    print('var1 is smaller')"
   ]
  },
  {
   "cell_type": "code",
   "execution_count": null,
   "id": "42509f68",
   "metadata": {},
   "outputs": [],
   "source": []
  }
 ],
 "metadata": {
  "kernelspec": {
   "display_name": "Python 3 (ipykernel)",
   "language": "python",
   "name": "python3"
  },
  "language_info": {
   "codemirror_mode": {
    "name": "ipython",
    "version": 3
   },
   "file_extension": ".py",
   "mimetype": "text/x-python",
   "name": "python",
   "nbconvert_exporter": "python",
   "pygments_lexer": "ipython3",
   "version": "3.9.5"
  }
 },
 "nbformat": 4,
 "nbformat_minor": 5
}
