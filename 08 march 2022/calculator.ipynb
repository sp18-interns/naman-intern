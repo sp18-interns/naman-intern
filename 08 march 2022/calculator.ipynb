{
 "cells": [
  {
   "cell_type": "code",
   "execution_count": 38,
   "id": "2ee7f9a7",
   "metadata": {},
   "outputs": [
    {
     "name": "stdout",
     "output_type": "stream",
     "text": [
      "enter 1st number\n",
      "55\n",
      "enter 2nd number\n",
      "54\n",
      "so what you want? +,/,*,-,%\n",
      "=\n",
      "Error: please check your operator\n"
     ]
    }
   ],
   "source": [
    "print(\"enter 1st number\")\n",
    "num1 = float(input())\n",
    "print(\"enter 2nd number\")\n",
    "num2 = float(input())\n",
    "print('so what you want?'+' +,/,*,-,%')\n",
    "num3 = input()\n",
    "\n",
    "if num3 =='*':\n",
    "    mul=num1*num2\n",
    "    print(mul)\n",
    "elif num3 == '+':\n",
    "    plus=num1+num2\n",
    "    print(plus)\n",
    "elif num3 == '/':\n",
    "    Div=num1/num2\n",
    "    print(Div)\n",
    "elif num3 == '%':\n",
    "    percent=num1%num2\n",
    "    print(percent)\n",
    "elif num3 == '-' :\n",
    "    sub=num1-num2\n",
    "    print(sub)\n",
    "else:\n",
    "    print(\"Error: please check your operator\")\n",
    "     \n",
    "\n"
   ]
  },
  {
   "cell_type": "code",
   "execution_count": null,
   "id": "f1753a54",
   "metadata": {},
   "outputs": [],
   "source": []
  },
  {
   "cell_type": "code",
   "execution_count": null,
   "id": "3cea9278",
   "metadata": {},
   "outputs": [],
   "source": []
  }
 ],
 "metadata": {
  "kernelspec": {
   "display_name": "Python 3 (ipykernel)",
   "language": "python",
   "name": "python3"
  },
  "language_info": {
   "codemirror_mode": {
    "name": "ipython",
    "version": 3
   },
   "file_extension": ".py",
   "mimetype": "text/x-python",
   "name": "python",
   "nbconvert_exporter": "python",
   "pygments_lexer": "ipython3",
   "version": "3.9.5"
  }
 },
 "nbformat": 4,
 "nbformat_minor": 5
}
