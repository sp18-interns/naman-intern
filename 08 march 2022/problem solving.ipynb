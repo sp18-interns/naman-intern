{
 "cells": [
  {
   "cell_type": "code",
   "execution_count": 23,
   "id": "d8436bfc",
   "metadata": {},
   "outputs": [
    {
     "name": "stdout",
     "output_type": "stream",
     "text": [
      "[3, 3, 6]\n"
     ]
    }
   ],
   "source": [
    "list = [\"abc\", \"aaa\", \"sample\"]\n",
    "newlist = [len(list) for list in list]\n",
    "print(newlist)"
   ]
  },
  {
   "cell_type": "code",
   "execution_count": 31,
   "id": "6f5b6373",
   "metadata": {},
   "outputs": [
    {
     "name": "stdout",
     "output_type": "stream",
     "text": [
      "{'sample': 6, 'abc': 3, 'aaa': 3}\n"
     ]
    }
   ],
   "source": [
    "dict = {\"abc\", \"aaa\", \"sample\"}\n",
    "square_dict = {x: len(x) for x in dict}\n",
    "print(square_dict)"
   ]
  },
  {
   "cell_type": "code",
   "execution_count": 37,
   "id": "8eedfbbd",
   "metadata": {},
   "outputs": [
    {
     "name": "stdout",
     "output_type": "stream",
     "text": [
      "{'john': 33, 'naman': 25}\n"
     ]
    }
   ],
   "source": [
    "name= {'jack': 38, 'michael': 48, 'guido': 57, 'john': 33, 'naman':25}\n",
    "\n",
    "new_dict = {k:v for k,v in original.items() if v % 2 != 0 if v < 40}\n",
    "print(new_dict)"
   ]
  },
  {
   "cell_type": "code",
   "execution_count": 47,
   "id": "b64433d3",
   "metadata": {},
   "outputs": [
    {
     "name": "stdout",
     "output_type": "stream",
     "text": [
      "{'naman': 'young', 'mukesh': 'young', 'chirag': 'young', 'bonda': 'old'}\n"
     ]
    }
   ],
   "source": [
    "original_dict = {'naman': 20, 'mukesh': 22, 'chirag': 21, 'bonda': 38}\n",
    "\n",
    "new_dict_1 = {k: ('old' if v > 25 else 'young')\n",
    "    for (k, v) in original_dict.items()}\n",
    "print(new_dict_1)"
   ]
  },
  {
   "cell_type": "code",
   "execution_count": null,
   "id": "fff0643f",
   "metadata": {},
   "outputs": [],
   "source": []
  }
 ],
 "metadata": {
  "kernelspec": {
   "display_name": "Python 3 (ipykernel)",
   "language": "python",
   "name": "python3"
  },
  "language_info": {
   "codemirror_mode": {
    "name": "ipython",
    "version": 3
   },
   "file_extension": ".py",
   "mimetype": "text/x-python",
   "name": "python",
   "nbconvert_exporter": "python",
   "pygments_lexer": "ipython3",
   "version": "3.9.5"
  }
 },
 "nbformat": 4,
 "nbformat_minor": 5
}
