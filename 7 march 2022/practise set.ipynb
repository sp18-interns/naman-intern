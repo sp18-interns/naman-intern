{
 "cells": [
  {
   "cell_type": "code",
   "execution_count": null,
   "id": "d80f6069",
   "metadata": {},
   "outputs": [],
   "source": [
    "mylist = [1,2,3,4,5,6,7,8,9,10]"
   ]
  },
  {
   "cell_type": "code",
   "execution_count": 39,
   "id": "89a3bd39",
   "metadata": {},
   "outputs": [
    {
     "name": "stdout",
     "output_type": "stream",
     "text": [
      "hello\n",
      "hello\n",
      "hello\n",
      "hello\n",
      "hello\n",
      "hello\n",
      "hello\n",
      "hello\n",
      "hello\n",
      "hello\n"
     ]
    }
   ],
   "source": [
    "mylist = [1,2,3,4,5,6,7,8,9,10]\n",
    "for num in mylist:\n",
    "        print('hello')"
   ]
  },
  {
   "cell_type": "code",
   "execution_count": 43,
   "id": "49862fb3",
   "metadata": {},
   "outputs": [
    {
     "name": "stdout",
     "output_type": "stream",
     "text": [
      "1\n",
      "even number: 2\n",
      "3\n",
      "even number: 4\n",
      "5\n",
      "even number: 6\n",
      "7\n",
      "even number: 8\n",
      "9\n",
      "even number: 10\n"
     ]
    }
   ],
   "source": [
    "mylist = [1,2,3,4,5,6,7,8,9,10]\n",
    "for num in mylist:\n",
    "   #check for even\n",
    "    if num % 2 == 1:\n",
    "        print(num)\n",
    "    else:\n",
    "        print(f'even number: {num}')\n"
   ]
  },
  {
   "cell_type": "code",
   "execution_count": 26,
   "id": "06af6343",
   "metadata": {},
   "outputs": [
    {
     "name": "stdout",
     "output_type": "stream",
     "text": [
      "55\n"
     ]
    }
   ],
   "source": [
    "list_sum=0\n",
    "for num in mylist:\n",
    "    list_sum = list_sum + num\n",
    "print(list_sum)"
   ]
  },
  {
   "cell_type": "code",
   "execution_count": 38,
   "id": "89e07ff9",
   "metadata": {},
   "outputs": [
    {
     "name": "stdout",
     "output_type": "stream",
     "text": [
      "what is your name\n",
      "naman\n",
      "hello naman\n"
     ]
    }
   ],
   "source": [
    "print('what is your name')\n",
    "name= str(input())\n",
    "if name == 'naman':\n",
    "    print(\"hello naman\")\n",
    "elif name=='chirag':\n",
    "    print(\"hello chirag\")\n",
    "else:\n",
    "    print(\"you are not in list\")"
   ]
  },
  {
   "cell_type": "code",
   "execution_count": 37,
   "id": "39bc9f9f",
   "metadata": {},
   "outputs": [
    {
     "name": "stdout",
     "output_type": "stream",
     "text": [
      "naman pandey\n"
     ]
    }
   ],
   "source": [
    "name=\"naman pandey\"\n",
    "print(name)"
   ]
  },
  {
   "cell_type": "code",
   "execution_count": null,
   "id": "372710ac",
   "metadata": {},
   "outputs": [],
   "source": [
    "mylist = [1,2,3,4,5,6,7,8,9,10]"
   ]
  },
  {
   "cell_type": "code",
   "execution_count": 41,
   "id": "0955f951",
   "metadata": {},
   "outputs": [
    {
     "name": "stdout",
     "output_type": "stream",
     "text": [
      "1\n",
      "2\n",
      "3\n",
      "4\n",
      "5\n",
      "6\n",
      "7\n",
      "8\n",
      "9\n",
      "10\n"
     ]
    }
   ],
   "source": [
    "for num in mylist:\n",
    "    print(num)"
   ]
  },
  {
   "cell_type": "code",
   "execution_count": 45,
   "id": "ac1c3522",
   "metadata": {},
   "outputs": [
    {
     "name": "stdout",
     "output_type": "stream",
     "text": [
      "n\n",
      "a\n",
      "m\n",
      "a\n",
      "n\n",
      " \n",
      "p\n",
      "a\n",
      "n\n",
      "d\n",
      "e\n",
      "y\n"
     ]
    }
   ],
   "source": [
    "mystring= 'naman pandey'\n",
    "for _ in 'naman pandey':\n",
    "    print(_)"
   ]
  },
  {
   "cell_type": "code",
   "execution_count": 46,
   "id": "47ba148c",
   "metadata": {},
   "outputs": [
    {
     "name": "stdout",
     "output_type": "stream",
     "text": [
      "1\n",
      "2\n",
      "3\n",
      "6\n",
      "8\n"
     ]
    }
   ],
   "source": [
    "tup = (1,2,3,6,8)\n",
    "for item in tup:\n",
    "    print(item)"
   ]
  },
  {
   "cell_type": "code",
   "execution_count": null,
   "id": "e1e4908d",
   "metadata": {},
   "outputs": [],
   "source": []
  }
 ],
 "metadata": {
  "kernelspec": {
   "display_name": "Python 3 (ipykernel)",
   "language": "python",
   "name": "python3"
  },
  "language_info": {
   "codemirror_mode": {
    "name": "ipython",
    "version": 3
   },
   "file_extension": ".py",
   "mimetype": "text/x-python",
   "name": "python",
   "nbconvert_exporter": "python",
   "pygments_lexer": "ipython3",
   "version": "3.9.5"
  }
 },
 "nbformat": 4,
 "nbformat_minor": 5
}
